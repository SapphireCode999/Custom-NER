{
 "cells": [
  {
   "cell_type": "markdown",
   "id": "54aed516",
   "metadata": {},
   "source": [
    "# Custom Named Entity Recognition on Medical Data"
   ]
  },
  {
   "cell_type": "markdown",
   "id": "b0a8e212",
   "metadata": {},
   "source": [
    "Named entity recognition (NER for short) is an aspect of natural language processing that is used to extract words of interest in a block of text. \n",
    "\n",
    "Many natural language processing models like spacy, bert etc are trained to recognize different words in a corpus, a paragraph or an article. These models have been trained on massive data and they come handy for general categories like name of a person, country, and organization. Spacy also has some scispacy models that you can download and use to recognise medical  words, drugs and chemicals.\n",
    "\n",
    "However, you will most likely have words of interest that the pretrained models can’t recognise. In that case, you will need to train a model for your use case. Depending on the field, the words of interest are annotated and used to train a chosen NER model. In this tutorial, we’ll try our hands on training a custom NER model using a blank spacy model.\n",
    "\n",
    "Spacy has pre-trained small, medium and large models. It also has scispacy which is a library containing models that can be used to extract illnesses, drugs and chemicals. It has been noted that it’s challenging to retrain a pre-trained spacy library in order to add new words to the model. To this end, we need to take a blank medium spacy model and train it with our annotated data from scratch.\n",
    "\n",
    "We are going to use a dataset from kaggle which is already annotated. You can download the data from this link. \n",
    "\n",
    "https://www.kaggle.com/datasets/finalepoch/medical-ner\n",
    "\n"
   ]
  },
  {
   "cell_type": "markdown",
   "id": "64af9039",
   "metadata": {},
   "source": [
    "## Import the necessary libraries\n"
   ]
  },
  {
   "cell_type": "code",
   "execution_count": 1,
   "id": "2037c726",
   "metadata": {},
   "outputs": [],
   "source": [
    "import spacy\n",
    "import json\n",
    "from spacy import displacy\n",
    "from spacy.tokens import Doc, DocBin\n",
    "from spacy.util import filter_spans\n",
    "from tqdm import tqdm"
   ]
  },
  {
   "cell_type": "markdown",
   "id": "92a7ee36",
   "metadata": {},
   "source": [
    "You need to download the large version of spacy model for more accuracy.\n",
    "\n"
   ]
  },
  {
   "cell_type": "code",
   "execution_count": 4,
   "id": "698d6165",
   "metadata": {},
   "outputs": [
    {
     "name": "stdout",
     "output_type": "stream",
     "text": [
      "Collecting en-core-web-lg==3.3.0\n",
      "  Downloading https://github.com/explosion/spacy-models/releases/download/en_core_web_lg-3.3.0/en_core_web_lg-3.3.0-py3-none-any.whl (400.7 MB)\n",
      "     ------------------------------------ 400.7/400.7 MB 388.2 kB/s eta 0:00:00\n",
      "Requirement already satisfied: spacy<3.4.0,>=3.3.0.dev0 in c:\\users\\surface\\anaconda3\\envs\\nlp\\lib\\site-packages (from en-core-web-lg==3.3.0) (3.3.1)\n",
      "Requirement already satisfied: pathy>=0.3.5 in c:\\users\\surface\\anaconda3\\envs\\nlp\\lib\\site-packages (from spacy<3.4.0,>=3.3.0.dev0->en-core-web-lg==3.3.0) (0.10.1)\n",
      "Requirement already satisfied: murmurhash<1.1.0,>=0.28.0 in c:\\users\\surface\\anaconda3\\envs\\nlp\\lib\\site-packages (from spacy<3.4.0,>=3.3.0.dev0->en-core-web-lg==3.3.0) (1.0.7)\n",
      "Requirement already satisfied: spacy-legacy<3.1.0,>=3.0.9 in c:\\users\\surface\\anaconda3\\envs\\nlp\\lib\\site-packages (from spacy<3.4.0,>=3.3.0.dev0->en-core-web-lg==3.3.0) (3.0.12)\n",
      "Requirement already satisfied: catalogue<2.1.0,>=2.0.6 in c:\\users\\surface\\anaconda3\\envs\\nlp\\lib\\site-packages (from spacy<3.4.0,>=3.3.0.dev0->en-core-web-lg==3.3.0) (2.0.7)\n",
      "Requirement already satisfied: tqdm<5.0.0,>=4.38.0 in c:\\users\\surface\\anaconda3\\envs\\nlp\\lib\\site-packages (from spacy<3.4.0,>=3.3.0.dev0->en-core-web-lg==3.3.0) (4.64.1)\n",
      "Requirement already satisfied: pydantic!=1.8,!=1.8.1,<1.9.0,>=1.7.4 in c:\\users\\surface\\anaconda3\\envs\\nlp\\lib\\site-packages (from spacy<3.4.0,>=3.3.0.dev0->en-core-web-lg==3.3.0) (1.8.2)\n",
      "Requirement already satisfied: thinc<8.1.0,>=8.0.14 in c:\\users\\surface\\anaconda3\\envs\\nlp\\lib\\site-packages (from spacy<3.4.0,>=3.3.0.dev0->en-core-web-lg==3.3.0) (8.0.15)"
     ]
    },
    {
     "name": "stderr",
     "output_type": "stream",
     "text": [
      "DEPRECATION: https://github.com/explosion/spacy-models/releases/download/en_core_web_lg-3.3.0/en_core_web_lg-3.3.0-py3-none-any.whl#egg=en_core_web_lg==3.3.0 contains an egg fragment with a non-PEP 508 name pip 25.0 will enforce this behaviour change. A possible replacement is to use the req @ url syntax, and remove the egg fragment. Discussion can be found at https://github.com/pypa/pip/issues/11617\n"
     ]
    },
    {
     "name": "stdout",
     "output_type": "stream",
     "text": [
      "\n",
      "Requirement already satisfied: wasabi<1.1.0,>=0.9.1 in c:\\users\\surface\\anaconda3\\envs\\nlp\\lib\\site-packages (from spacy<3.4.0,>=3.3.0.dev0->en-core-web-lg==3.3.0) (0.9.1)\n",
      "Requirement already satisfied: blis<0.8.0,>=0.4.0 in c:\\users\\surface\\anaconda3\\envs\\nlp\\lib\\site-packages (from spacy<3.4.0,>=3.3.0.dev0->en-core-web-lg==3.3.0) (0.7.9)\n",
      "Requirement already satisfied: jinja2 in c:\\users\\surface\\appdata\\roaming\\python\\python310\\site-packages (from spacy<3.4.0,>=3.3.0.dev0->en-core-web-lg==3.3.0) (3.0.3)\n",
      "Requirement already satisfied: cymem<2.1.0,>=2.0.2 in c:\\users\\surface\\anaconda3\\envs\\nlp\\lib\\site-packages (from spacy<3.4.0,>=3.3.0.dev0->en-core-web-lg==3.3.0) (2.0.6)\n",
      "Requirement already satisfied: numpy>=1.15.0 in c:\\users\\surface\\anaconda3\\envs\\nlp\\lib\\site-packages (from spacy<3.4.0,>=3.3.0.dev0->en-core-web-lg==3.3.0) (1.23.5)\n",
      "Requirement already satisfied: requests<3.0.0,>=2.13.0 in c:\\users\\surface\\anaconda3\\envs\\nlp\\lib\\site-packages (from spacy<3.4.0,>=3.3.0.dev0->en-core-web-lg==3.3.0) (2.28.1)\n",
      "Requirement already satisfied: typer<0.5.0,>=0.3.0 in c:\\users\\surface\\anaconda3\\envs\\nlp\\lib\\site-packages (from spacy<3.4.0,>=3.3.0.dev0->en-core-web-lg==3.3.0) (0.4.1)\n",
      "Requirement already satisfied: srsly<3.0.0,>=2.4.3 in c:\\users\\surface\\anaconda3\\envs\\nlp\\lib\\site-packages (from spacy<3.4.0,>=3.3.0.dev0->en-core-web-lg==3.3.0) (2.4.6)\n",
      "Requirement already satisfied: spacy-loggers<2.0.0,>=1.0.0 in c:\\users\\surface\\anaconda3\\envs\\nlp\\lib\\site-packages (from spacy<3.4.0,>=3.3.0.dev0->en-core-web-lg==3.3.0) (1.0.1)\n",
      "Requirement already satisfied: setuptools in c:\\users\\surface\\anaconda3\\envs\\nlp\\lib\\site-packages (from spacy<3.4.0,>=3.3.0.dev0->en-core-web-lg==3.3.0) (65.6.3)\n",
      "Requirement already satisfied: packaging>=20.0 in c:\\users\\surface\\appdata\\roaming\\python\\python310\\site-packages (from spacy<3.4.0,>=3.3.0.dev0->en-core-web-lg==3.3.0) (21.3)\n",
      "Requirement already satisfied: langcodes<4.0.0,>=3.2.0 in c:\\users\\surface\\anaconda3\\envs\\nlp\\lib\\site-packages (from spacy<3.4.0,>=3.3.0.dev0->en-core-web-lg==3.3.0) (3.3.0)\n",
      "Requirement already satisfied: preshed<3.1.0,>=3.0.2 in c:\\users\\surface\\anaconda3\\envs\\nlp\\lib\\site-packages (from spacy<3.4.0,>=3.3.0.dev0->en-core-web-lg==3.3.0) (3.0.6)\n",
      "Requirement already satisfied: pyparsing!=3.0.5,>=2.0.2 in c:\\users\\surface\\appdata\\roaming\\python\\python310\\site-packages (from packaging>=20.0->spacy<3.4.0,>=3.3.0.dev0->en-core-web-lg==3.3.0) (3.0.7)\n",
      "Requirement already satisfied: smart-open<7.0.0,>=5.2.1 in c:\\users\\surface\\anaconda3\\envs\\nlp\\lib\\site-packages (from pathy>=0.3.5->spacy<3.4.0,>=3.3.0.dev0->en-core-web-lg==3.3.0) (5.2.1)\n",
      "Requirement already satisfied: typing-extensions>=3.7.4.3 in c:\\users\\surface\\anaconda3\\envs\\nlp\\lib\\site-packages (from pydantic!=1.8,!=1.8.1,<1.9.0,>=1.7.4->spacy<3.4.0,>=3.3.0.dev0->en-core-web-lg==3.3.0) (4.4.0)\n",
      "Requirement already satisfied: charset-normalizer<3,>=2 in c:\\users\\surface\\anaconda3\\envs\\nlp\\lib\\site-packages (from requests<3.0.0,>=2.13.0->spacy<3.4.0,>=3.3.0.dev0->en-core-web-lg==3.3.0) (2.0.4)\n",
      "Requirement already satisfied: urllib3<1.27,>=1.21.1 in c:\\users\\surface\\anaconda3\\envs\\nlp\\lib\\site-packages (from requests<3.0.0,>=2.13.0->spacy<3.4.0,>=3.3.0.dev0->en-core-web-lg==3.3.0) (1.26.14)\n",
      "Requirement already satisfied: idna<4,>=2.5 in c:\\users\\surface\\anaconda3\\envs\\nlp\\lib\\site-packages (from requests<3.0.0,>=2.13.0->spacy<3.4.0,>=3.3.0.dev0->en-core-web-lg==3.3.0) (3.4)\n",
      "Requirement already satisfied: certifi>=2017.4.17 in c:\\users\\surface\\anaconda3\\envs\\nlp\\lib\\site-packages (from requests<3.0.0,>=2.13.0->spacy<3.4.0,>=3.3.0.dev0->en-core-web-lg==3.3.0) (2022.12.7)\n",
      "Requirement already satisfied: colorama in c:\\users\\surface\\appdata\\roaming\\python\\python310\\site-packages (from tqdm<5.0.0,>=4.38.0->spacy<3.4.0,>=3.3.0.dev0->en-core-web-lg==3.3.0) (0.4.4)\n",
      "Requirement already satisfied: click<9.0.0,>=7.1.1 in c:\\users\\surface\\appdata\\roaming\\python\\python310\\site-packages (from typer<0.5.0,>=0.3.0->spacy<3.4.0,>=3.3.0.dev0->en-core-web-lg==3.3.0) (8.0.3)\n",
      "Requirement already satisfied: MarkupSafe>=2.0 in c:\\users\\surface\\appdata\\roaming\\python\\python310\\site-packages (from jinja2->spacy<3.4.0,>=3.3.0.dev0->en-core-web-lg==3.3.0) (2.0.1)\n",
      "Installing collected packages: en-core-web-lg\n",
      "Successfully installed en-core-web-lg-3.3.0\n",
      "[+] Download and installation successful\n",
      "You can now load the package via spacy.load('en_core_web_lg')\n"
     ]
    }
   ],
   "source": [
    "!python -m spacy download en_core_web_lg --user"
   ]
  },
  {
   "cell_type": "markdown",
   "id": "6d4f0899",
   "metadata": {},
   "source": [
    "In order to use the model, we’ll load it and assign it to a variable\n"
   ]
  },
  {
   "cell_type": "code",
   "execution_count": 5,
   "id": "c97f7368",
   "metadata": {},
   "outputs": [
    {
     "data": {
      "text/plain": [
       "<spacy.lang.en.English at 0x2943b0fd3f0>"
      ]
     },
     "execution_count": 5,
     "metadata": {},
     "output_type": "execute_result"
    }
   ],
   "source": [
    "nlp = spacy.load(\"en_core_web_lg\")\n",
    "nlp"
   ]
  },
  {
   "cell_type": "markdown",
   "id": "dbff57ca",
   "metadata": {},
   "source": [
    "Let’s try it on a simple sentence."
   ]
  },
  {
   "cell_type": "code",
   "execution_count": 6,
   "id": "b1ec5da3",
   "metadata": {},
   "outputs": [],
   "source": [
    "doc = nlp('Elephants are found in Africa and India')"
   ]
  },
  {
   "cell_type": "markdown",
   "id": "6365ea28",
   "metadata": {},
   "source": [
    "Spacy ner has a number of properties that we can check. One of them is doc.ents which shows us the entities that spacy is able to recognise. We can see that spacy model has recognized two entities in this sentence.\n"
   ]
  },
  {
   "cell_type": "code",
   "execution_count": 7,
   "id": "17fa4685",
   "metadata": {},
   "outputs": [
    {
     "data": {
      "text/plain": [
       "(Africa, India)"
      ]
     },
     "execution_count": 7,
     "metadata": {},
     "output_type": "execute_result"
    }
   ],
   "source": [
    "doc.ents"
   ]
  },
  {
   "cell_type": "markdown",
   "id": "3da357f1",
   "metadata": {},
   "source": [
    "We can display the entities using displacy library from spacy.\n"
   ]
  },
  {
   "cell_type": "code",
   "execution_count": 8,
   "id": "3643493e",
   "metadata": {},
   "outputs": [
    {
     "data": {
      "text/html": [
       "<span class=\"tex2jax_ignore\"><div class=\"entities\" style=\"line-height: 2.5; direction: ltr\">Elephants are found in \n",
       "<mark class=\"entity\" style=\"background: #ff9561; padding: 0.45em 0.6em; margin: 0 0.25em; line-height: 1; border-radius: 0.35em;\">\n",
       "    Africa\n",
       "    <span style=\"font-size: 0.8em; font-weight: bold; line-height: 1; border-radius: 0.35em; vertical-align: middle; margin-left: 0.5rem\">LOC</span>\n",
       "</mark>\n",
       " and \n",
       "<mark class=\"entity\" style=\"background: #feca74; padding: 0.45em 0.6em; margin: 0 0.25em; line-height: 1; border-radius: 0.35em;\">\n",
       "    India\n",
       "    <span style=\"font-size: 0.8em; font-weight: bold; line-height: 1; border-radius: 0.35em; vertical-align: middle; margin-left: 0.5rem\">GPE</span>\n",
       "</mark>\n",
       "</div></span>"
      ],
      "text/plain": [
       "<IPython.core.display.HTML object>"
      ]
     },
     "metadata": {},
     "output_type": "display_data"
    }
   ],
   "source": [
    "displacy.render(doc, style=\"ent\", jupyter=True)"
   ]
  },
  {
   "cell_type": "markdown",
   "id": "45155586",
   "metadata": {},
   "source": [
    "## Custom NER\n"
   ]
  },
  {
   "cell_type": "markdown",
   "id": "47889de5",
   "metadata": {},
   "source": [
    "In order to find custom entities that may not be in spacy’s model, we can annotate our own text data and train a blank spacy model to recognise our own specific entities. However, we are going to download data from kaggle that comprises text data and annotated entities and other metadata in json format.\n",
    "\n",
    "https://www.kaggle.com/datasets/finalepoch/medical-ner\n",
    "\n",
    "Open a folder and extract the Corona2.json file. Load the json file and assign it to a variable.\n"
   ]
  },
  {
   "cell_type": "code",
   "execution_count": 9,
   "id": "b34f642e",
   "metadata": {},
   "outputs": [],
   "source": [
    "# import json\n",
    "with open('Corona2.json', 'r') as file:\n",
    "    data = json.load(file)"
   ]
  },
  {
   "cell_type": "markdown",
   "id": "73ed897d",
   "metadata": {},
   "source": [
    "Let's check a sample of the data."
   ]
  },
  {
   "cell_type": "code",
   "execution_count": 10,
   "id": "025f5248",
   "metadata": {},
   "outputs": [
    {
     "data": {
      "text/plain": [
       "{'id': '487c93e3-0d45-4088-a378-cf3a01c8953d',\n",
       " 'content': 'Diarrhea, also spelled diarrhoea, is the condition of having at least three loose, liquid, or watery bowel movements each day.[2] It often lasts for a few days and can result in dehydration due to fluid loss.[2] Signs of dehydration often begin with loss of the normal stretchiness of the skin and irritable behaviour.[2] This can progress to decreased urination, loss of skin color, a fast heart rate, and a decrease in responsiveness as it becomes more severe.[2] Loose but non-watery stools in babies who are exclusively breastfed, however, are normal.[2]',\n",
       " 'metadata': {},\n",
       " 'annotations': [{'id': '28601a42-c8a9-44e2-aeea-8939cb1db1a9',\n",
       "   'tag_id': '03eb3e50-d4d8-4261-a60b-fa5aee5deb4a',\n",
       "   'end': 382,\n",
       "   'start': 364,\n",
       "   'example_id': '487c93e3-0d45-4088-a378-cf3a01c8953d',\n",
       "   'tag_name': 'MedicalCondition',\n",
       "   'value': 'loss of skin color',\n",
       "   'correct': None,\n",
       "   'human_annotations': [{'timestamp': '2020-03-21T00:23:08.961000Z',\n",
       "     'annotator_id': 1,\n",
       "     'tagged_token_id': '28601a42-c8a9-44e2-aeea-8939cb1db1a9',\n",
       "     'name': 'Ashpat123',\n",
       "     'reason': 'exploration'}],\n",
       "   'model_annotations': []},\n",
       "  {'id': '63722e91-3f62-4951-9159-688448406d2a',\n",
       "   'tag_id': '03eb3e50-d4d8-4261-a60b-fa5aee5deb4a',\n",
       "   'end': 8,\n",
       "   'start': 0,\n",
       "   'example_id': '487c93e3-0d45-4088-a378-cf3a01c8953d',\n",
       "   'tag_name': 'MedicalCondition',\n",
       "   'value': 'Diarrhea',\n",
       "   'correct': None,\n",
       "   'human_annotations': [{'timestamp': '2020-03-21T00:22:23.535000Z',\n",
       "     'annotator_id': 1,\n",
       "     'tagged_token_id': '63722e91-3f62-4951-9159-688448406d2a',\n",
       "     'name': 'Ashpat123',\n",
       "     'reason': 'exploration'}],\n",
       "   'model_annotations': []},\n",
       "  {'id': '78c60aa6-bfee-46b4-bab3-0e5566551bca',\n",
       "   'tag_id': '03eb3e50-d4d8-4261-a60b-fa5aee5deb4a',\n",
       "   'end': 116,\n",
       "   'start': 94,\n",
       "   'example_id': '487c93e3-0d45-4088-a378-cf3a01c8953d',\n",
       "   'tag_name': 'MedicalCondition',\n",
       "   'value': 'watery bowel movements',\n",
       "   'correct': None,\n",
       "   'human_annotations': [{'timestamp': '2020-03-21T00:22:35.157000Z',\n",
       "     'annotator_id': 1,\n",
       "     'tagged_token_id': '78c60aa6-bfee-46b4-bab3-0e5566551bca',\n",
       "     'name': 'Ashpat123',\n",
       "     'reason': 'exploration'}],\n",
       "   'model_annotations': []},\n",
       "  {'id': '81f7b1d3-ac4f-4239-aef4-eb1402d66257',\n",
       "   'tag_id': '03eb3e50-d4d8-4261-a60b-fa5aee5deb4a',\n",
       "   'end': 189,\n",
       "   'start': 178,\n",
       "   'example_id': '487c93e3-0d45-4088-a378-cf3a01c8953d',\n",
       "   'tag_name': 'MedicalCondition',\n",
       "   'value': 'dehydration',\n",
       "   'correct': None,\n",
       "   'human_annotations': [{'timestamp': '2020-03-21T00:22:56.913000Z',\n",
       "     'annotator_id': 1,\n",
       "     'tagged_token_id': '81f7b1d3-ac4f-4239-aef4-eb1402d66257',\n",
       "     'name': 'Ashpat123',\n",
       "     'reason': 'exploration'}],\n",
       "   'model_annotations': []},\n",
       "  {'id': 'dec80dca-33ab-4392-8d72-f0524695992f',\n",
       "   'tag_id': '03eb3e50-d4d8-4261-a60b-fa5aee5deb4a',\n",
       "   'end': 232,\n",
       "   'start': 221,\n",
       "   'example_id': '487c93e3-0d45-4088-a378-cf3a01c8953d',\n",
       "   'tag_name': 'MedicalCondition',\n",
       "   'value': 'dehydration',\n",
       "   'correct': None,\n",
       "   'human_annotations': [{'timestamp': '2020-03-21T00:22:49.804000Z',\n",
       "     'annotator_id': 1,\n",
       "     'tagged_token_id': 'dec80dca-33ab-4392-8d72-f0524695992f',\n",
       "     'name': 'Ashpat123',\n",
       "     'reason': 'exploration'}],\n",
       "   'model_annotations': []},\n",
       "  {'id': 'dff63591-717a-4de7-8cc3-70d8978036f0',\n",
       "   'tag_id': '03eb3e50-d4d8-4261-a60b-fa5aee5deb4a',\n",
       "   'end': 32,\n",
       "   'start': 23,\n",
       "   'example_id': '487c93e3-0d45-4088-a378-cf3a01c8953d',\n",
       "   'tag_name': 'MedicalCondition',\n",
       "   'value': 'diarrhoea',\n",
       "   'correct': None,\n",
       "   'human_annotations': [{'timestamp': '2020-03-21T00:22:26.974000Z',\n",
       "     'annotator_id': 1,\n",
       "     'tagged_token_id': 'dff63591-717a-4de7-8cc3-70d8978036f0',\n",
       "     'name': 'Ashpat123',\n",
       "     'reason': 'exploration'}],\n",
       "   'model_annotations': []},\n",
       "  {'id': 'e7c60bff-6087-43f1-91e8-3436af311ceb',\n",
       "   'tag_id': '03eb3e50-d4d8-4261-a60b-fa5aee5deb4a',\n",
       "   'end': 435,\n",
       "   'start': 409,\n",
       "   'example_id': '487c93e3-0d45-4088-a378-cf3a01c8953d',\n",
       "   'tag_name': 'MedicalCondition',\n",
       "   'value': 'decrease in responsiveness',\n",
       "   'correct': None,\n",
       "   'human_annotations': [{'timestamp': '2020-03-21T00:23:36.374000Z',\n",
       "     'annotator_id': 1,\n",
       "     'tagged_token_id': 'e7c60bff-6087-43f1-91e8-3436af311ceb',\n",
       "     'name': 'Ashpat123',\n",
       "     'reason': 'exploration'}],\n",
       "   'model_annotations': []},\n",
       "  {'id': 'ee1170b3-1a3c-422c-97a3-aa6acf2e91b7',\n",
       "   'tag_id': '03eb3e50-d4d8-4261-a60b-fa5aee5deb4a',\n",
       "   'end': 401,\n",
       "   'start': 386,\n",
       "   'example_id': '487c93e3-0d45-4088-a378-cf3a01c8953d',\n",
       "   'tag_name': 'MedicalCondition',\n",
       "   'value': 'fast heart rate',\n",
       "   'correct': None,\n",
       "   'human_annotations': [{'timestamp': '2020-03-21T00:23:16.223000Z',\n",
       "     'annotator_id': 1,\n",
       "     'tagged_token_id': 'ee1170b3-1a3c-422c-97a3-aa6acf2e91b7',\n",
       "     'name': 'Ashpat123',\n",
       "     'reason': 'exploration'}],\n",
       "   'model_annotations': []}],\n",
       " 'classifications': []}"
      ]
     },
     "execution_count": 10,
     "metadata": {},
     "output_type": "execute_result"
    }
   ],
   "source": [
    "data['examples'][1]"
   ]
  },
  {
   "cell_type": "markdown",
   "id": "916bd509",
   "metadata": {},
   "source": [
    "The data is a nested json object. Let’s see the keys.\n",
    "\n",
    "Let’s view what each key contains.\n"
   ]
  },
  {
   "cell_type": "code",
   "execution_count": 11,
   "id": "9e55c578",
   "metadata": {},
   "outputs": [
    {
     "data": {
      "text/plain": [
       "dict_keys(['id', 'content', 'metadata', 'annotations', 'classifications'])"
      ]
     },
     "execution_count": 11,
     "metadata": {},
     "output_type": "execute_result"
    }
   ],
   "source": [
    "data['examples'][1].keys()"
   ]
  },
  {
   "cell_type": "code",
   "execution_count": 12,
   "id": "761a8f18",
   "metadata": {},
   "outputs": [
    {
     "data": {
      "text/plain": [
       "'Diarrhea, also spelled diarrhoea, is the condition of having at least three loose, liquid, or watery bowel movements each day.[2] It often lasts for a few days and can result in dehydration due to fluid loss.[2] Signs of dehydration often begin with loss of the normal stretchiness of the skin and irritable behaviour.[2] This can progress to decreased urination, loss of skin color, a fast heart rate, and a decrease in responsiveness as it becomes more severe.[2] Loose but non-watery stools in babies who are exclusively breastfed, however, are normal.[2]'"
      ]
     },
     "execution_count": 12,
     "metadata": {},
     "output_type": "execute_result"
    }
   ],
   "source": [
    "data['examples'][1]['content']"
   ]
  },
  {
   "cell_type": "code",
   "execution_count": 13,
   "id": "02e8f902",
   "metadata": {},
   "outputs": [
    {
     "data": {
      "text/plain": [
       "{'id': '28601a42-c8a9-44e2-aeea-8939cb1db1a9',\n",
       " 'tag_id': '03eb3e50-d4d8-4261-a60b-fa5aee5deb4a',\n",
       " 'end': 382,\n",
       " 'start': 364,\n",
       " 'example_id': '487c93e3-0d45-4088-a378-cf3a01c8953d',\n",
       " 'tag_name': 'MedicalCondition',\n",
       " 'value': 'loss of skin color',\n",
       " 'correct': None,\n",
       " 'human_annotations': [{'timestamp': '2020-03-21T00:23:08.961000Z',\n",
       "   'annotator_id': 1,\n",
       "   'tagged_token_id': '28601a42-c8a9-44e2-aeea-8939cb1db1a9',\n",
       "   'name': 'Ashpat123',\n",
       "   'reason': 'exploration'}],\n",
       " 'model_annotations': []}"
      ]
     },
     "execution_count": 13,
     "metadata": {},
     "output_type": "execute_result"
    }
   ],
   "source": [
    "data['examples'][1]['annotations'][0]"
   ]
  },
  {
   "cell_type": "markdown",
   "id": "febe4bd0",
   "metadata": {},
   "source": [
    " We need the content and annotations."
   ]
  },
  {
   "cell_type": "markdown",
   "id": "018bddb5",
   "metadata": {},
   "source": [
    "## Extract the contents and annotations"
   ]
  },
  {
   "cell_type": "markdown",
   "id": "482819e6",
   "metadata": {},
   "source": [
    "Below, we’ll extract the content and annotations and use them to train the blank spacy model that we created above.\n",
    "\n",
    "In the code above, \n",
    "1. We created an empty list for our training data.\n",
    "2. We ran a for loop on each sample of our data, created an empty dictionary to hold the text and the custom entities. \n",
    "3. The text will be an list of the content while the custom entities will be an array of tuples that will hold the annotations, start index and end index of the location of the custom entity in the text.\n",
    "4. We ran another for loop to append the text and the custom entities to the empty dictionary.\n",
    "5. Finally, we append all the dictionaries to the empty train data array we created earlier.\n"
   ]
  },
  {
   "cell_type": "code",
   "execution_count": 14,
   "id": "bc1fa557",
   "metadata": {},
   "outputs": [
    {
     "name": "stdout",
     "output_type": "stream",
     "text": [
      "{'text': 'Diarrhea, also spelled diarrhoea, is the condition of having at least three loose, liquid, or watery bowel movements each day.[2] It often lasts for a few days and can result in dehydration due to fluid loss.[2] Signs of dehydration often begin with loss of the normal stretchiness of the skin and irritable behaviour.[2] This can progress to decreased urination, loss of skin color, a fast heart rate, and a decrease in responsiveness as it becomes more severe.[2] Loose but non-watery stools in babies who are exclusively breastfed, however, are normal.[2]', 'entities': [(364, 382, 'MEDICALCONDITION'), (0, 8, 'MEDICALCONDITION'), (94, 116, 'MEDICALCONDITION'), (178, 189, 'MEDICALCONDITION'), (221, 232, 'MEDICALCONDITION'), (23, 32, 'MEDICALCONDITION'), (409, 435, 'MEDICALCONDITION'), (386, 401, 'MEDICALCONDITION')]}\n"
     ]
    }
   ],
   "source": [
    "train_data = []\n",
    "for example in data['examples']:\n",
    "    ent_dict = {}\n",
    "    ent_dict['text'] = example['content']\n",
    "    ent_dict['entities'] = []\n",
    "    for annotation in example['annotations']:\n",
    "        start = annotation['start']\n",
    "        end = annotation['end']\n",
    "        label = annotation['tag_name'].upper()\n",
    "        ent_dict['entities'].append((start, end, label))\n",
    "    train_data.append(ent_dict)\n",
    "\n",
    "print(train_data[1])"
   ]
  },
  {
   "cell_type": "markdown",
   "id": "18ba8ea2",
   "metadata": {},
   "source": [
    "Let’s see what we were able to extract.\n",
    "\n",
    "This is a sample text\n"
   ]
  },
  {
   "cell_type": "code",
   "execution_count": 15,
   "id": "c11cb427",
   "metadata": {},
   "outputs": [
    {
     "data": {
      "text/plain": [
       "'Diarrhea, also spelled diarrhoea, is the condition of having at least three loose, liquid, or watery bowel movements each day.[2] It often lasts for a few days and can result in dehydration due to fluid loss.[2] Signs of dehydration often begin with loss of the normal stretchiness of the skin and irritable behaviour.[2] This can progress to decreased urination, loss of skin color, a fast heart rate, and a decrease in responsiveness as it becomes more severe.[2] Loose but non-watery stools in babies who are exclusively breastfed, however, are normal.[2]'"
      ]
     },
     "execution_count": 15,
     "metadata": {},
     "output_type": "execute_result"
    }
   ],
   "source": [
    "train_data[1]['text']"
   ]
  },
  {
   "cell_type": "markdown",
   "id": "1c5e1791",
   "metadata": {},
   "source": [
    "This is a sample of entities in a text\n"
   ]
  },
  {
   "cell_type": "code",
   "execution_count": 16,
   "id": "607a72fc",
   "metadata": {},
   "outputs": [
    {
     "data": {
      "text/plain": [
       "[(364, 382, 'MEDICALCONDITION'),\n",
       " (0, 8, 'MEDICALCONDITION'),\n",
       " (94, 116, 'MEDICALCONDITION'),\n",
       " (178, 189, 'MEDICALCONDITION'),\n",
       " (221, 232, 'MEDICALCONDITION'),\n",
       " (23, 32, 'MEDICALCONDITION'),\n",
       " (409, 435, 'MEDICALCONDITION'),\n",
       " (386, 401, 'MEDICALCONDITION')]"
      ]
     },
     "execution_count": 16,
     "metadata": {},
     "output_type": "execute_result"
    }
   ],
   "source": [
    "train_data[1]['entities']"
   ]
  },
  {
   "cell_type": "markdown",
   "id": "526203c4",
   "metadata": {},
   "source": [
    "We can also check the entity in a particular index"
   ]
  },
  {
   "cell_type": "code",
   "execution_count": 17,
   "id": "96b32370",
   "metadata": {},
   "outputs": [
    {
     "data": {
      "text/plain": [
       "'loss of skin color'"
      ]
     },
     "execution_count": 17,
     "metadata": {},
     "output_type": "execute_result"
    }
   ],
   "source": [
    "train_data[1]['text'][364:382]"
   ]
  },
  {
   "cell_type": "markdown",
   "id": "0d94763b",
   "metadata": {},
   "source": [
    "Let’s view a sample train data"
   ]
  },
  {
   "cell_type": "code",
   "execution_count": 18,
   "id": "dfb88356",
   "metadata": {},
   "outputs": [
    {
     "data": {
      "text/plain": [
       "{'text': \"Hantaviruses, usually found in rodents and shrews, were discovered in two species of bats. The MouyassuÃ© virus (MOUV) was isolated from banana pipistrelle bats captured near MouyassuÃ© village in Cote d'Ivoire, West Africa. The Magboi virus was isolated from hairy slit-faced bats found near the Magboi River in Sierra Leone in 2011. They are single-stranded, negative sense, RNA viruses in the Bunyaviridae family.[29][30][31][32]\",\n",
       " 'entities': [(0, 12, 'PATHOGEN'),\n",
       "  (394, 406, 'PATHOGEN'),\n",
       "  (227, 239, 'PATHOGEN'),\n",
       "  (95, 110, 'PATHOGEN')]}"
      ]
     },
     "execution_count": 18,
     "metadata": {},
     "output_type": "execute_result"
    }
   ],
   "source": [
    "train_data[5]"
   ]
  },
  {
   "cell_type": "markdown",
   "id": "1e41d78c",
   "metadata": {},
   "source": [
    "## Build the model"
   ]
  },
  {
   "cell_type": "markdown",
   "id": "77a7ec22",
   "metadata": {},
   "source": [
    " We need to initialize a blank spacy model to build our custom NER model."
   ]
  },
  {
   "cell_type": "code",
   "execution_count": 19,
   "id": "12e419ec",
   "metadata": {},
   "outputs": [],
   "source": [
    "nlp = spacy.blank('en')\n",
    "doc_bin = DocBin()"
   ]
  },
  {
   "cell_type": "markdown",
   "id": "9190c8da",
   "metadata": {},
   "source": [
    "Spacy expects our data to be in the form of a DocBin object. \n",
    "\n",
    "In the code below,\n",
    "1. We ran a for loop on the train data that we extracted from the json file. We wrap the train data in tqdm to show us the progress bar.\n",
    "2. We extract the text of each train_doc as text and entities of each train_doc as labels. The labels have start, end and the entity label.\n",
    "3. We convert this to spacy doc with make_doc function from spaCy.\n",
    "4. We initialize an empty list ents to hold all the entities.\n",
    "5. We convert the doc to a span object with doc.char_span.\n",
    "6. We then pass the list of entities to filter_span which ensures that there are no duplicate entities.\n",
    "7. We saved the filtered entities into doc.ents and then, we add the doc.ents to the doc_bin instance.\n",
    "8. Finally, we saved the doc_bin instance to disk with the name custom_ner that we chose. You should find the custom_ner.spacy file in the same directory."
   ]
  },
  {
   "cell_type": "code",
   "execution_count": 20,
   "id": "013e9dfb",
   "metadata": {},
   "outputs": [
    {
     "name": "stderr",
     "output_type": "stream",
     "text": [
      " 29%|██▉       | 9/31 [00:00<00:00, 44.71it/s]"
     ]
    },
    {
     "name": "stdout",
     "output_type": "stream",
     "text": [
      "No Span found\n",
      "No Span found\n",
      "No Span found\n",
      "No Span found\n",
      "No Span found\n",
      "No Span found\n",
      "No Span found\n",
      "No Span found\n",
      "No Span found\n",
      "No Span found\n",
      "No Span found\n",
      "No Span found\n",
      "No Span found\n",
      "No Span found\n",
      "No Span found\n",
      "No Span found\n",
      "No Span found\n",
      "No Span found\n"
     ]
    },
    {
     "name": "stderr",
     "output_type": "stream",
     "text": [
      "100%|██████████| 31/31 [00:00<00:00, 66.28it/s]"
     ]
    },
    {
     "name": "stdout",
     "output_type": "stream",
     "text": [
      "No Span found\n",
      "No Span found\n",
      "No Span found\n",
      "No Span found\n",
      "No Span found\n",
      "No Span found\n",
      "No Span found\n",
      "No Span found\n",
      "No Span found\n"
     ]
    },
    {
     "name": "stderr",
     "output_type": "stream",
     "text": [
      "\n"
     ]
    }
   ],
   "source": [
    "for train_doc in tqdm(train_data):\n",
    "    text = train_doc['text']\n",
    "    labels = train_doc['entities']\n",
    "    doc = nlp.make_doc(text)\n",
    "    ents = []\n",
    "    for start, end, label in labels:\n",
    "        span = doc.char_span(start, end, label=label, alignment_mode='contract')\n",
    "        if span is None:\n",
    "            print('No Span found')\n",
    "        else:\n",
    "            ents.append(span)\n",
    "    final_ents = filter_spans(ents)\n",
    "    doc.ents = final_ents\n",
    "    doc_bin.add(doc)\n",
    "    \n",
    "doc_bin.to_disk('custom_ner.spacy')"
   ]
  },
  {
   "cell_type": "markdown",
   "id": "bb48ae93",
   "metadata": {},
   "source": [
    "## Train the model"
   ]
  },
  {
   "cell_type": "markdown",
   "id": "50b088d6",
   "metadata": {},
   "source": [
    "The spacy model expects a configuration file which we can build with the help of spacy on their website in this link:\n",
    "https://spacy.io/usage/training#quickstart"
   ]
  },
  {
   "attachments": {
    "image-2.png": {
     "image/png": "[encoded data removed]"
    }
   },
   "cell_type": "markdown",
   "id": "9fc579ed",
   "metadata": {},
   "source": [
    "It should look like this. Then, copy the config file, paste it in new file in the same directory and name it base_config.cfg.\n",
    "\n",
    "![image-2.png](attachment:image-2.png)\n"
   ]
  },
  {
   "cell_type": "markdown",
   "id": "c8e36c78",
   "metadata": {},
   "source": [
    "Then run this command so that spaCy will use the base_config file to create a new config.cfg file."
   ]
  },
  {
   "cell_type": "code",
   "execution_count": 21,
   "id": "ba1fcb93",
   "metadata": {},
   "outputs": [
    {
     "name": "stdout",
     "output_type": "stream",
     "text": [
      "[+] Auto-filled config with all values\n",
      "[+] Saved config\n",
      "config.cfg\n",
      "You can now add your data and train your pipeline:\n",
      "python -m spacy train config.cfg --paths.train ./train.spacy --paths.dev ./dev.spacy\n"
     ]
    }
   ],
   "source": [
    "!python -m spacy init fill-config base_config.cfg config.cfg"
   ]
  },
  {
   "cell_type": "code",
   "execution_count": 22,
   "id": "129db922",
   "metadata": {},
   "outputs": [
    {
     "name": "stdout",
     "output_type": "stream",
     "text": [
      "[+] Created output directory: output\n",
      "[i] Saving to output directory: output\n",
      "[i] Using CPU\n",
      "\u001b[1m\n",
      "=========================== Initializing pipeline ===========================\u001b[0m\n",
      "[+] Initialized pipeline\n",
      "\u001b[1m\n",
      "============================= Training pipeline =============================\u001b[0m\n",
      "[i] Pipeline: ['tok2vec', 'ner']\n",
      "[i] Initial learn rate: 0.001"
     ]
    },
    {
     "name": "stderr",
     "output_type": "stream",
     "text": [
      "[2023-03-09 00:38:59,631] [INFO] Set up nlp object from config\n",
      "[2023-03-09 00:38:59,728] [INFO] Pipeline: ['tok2vec', 'ner']\n",
      "[2023-03-09 00:38:59,754] [INFO] Created vocabulary\n",
      "[2023-03-09 00:39:14,911] [INFO] Added vectors: en_core_web_lg\n",
      "[2023-03-09 00:39:28,844] [INFO] Finished initializing nlp object\n",
      "[2023-03-09 00:39:38,310] [INFO] Initialized pipeline components: ['tok2vec', 'ner']\n"
     ]
    },
    {
     "name": "stdout",
     "output_type": "stream",
     "text": [
      "\n",
      "E    #       LOSS TOK2VEC  LOSS NER  ENTS_F  ENTS_P  ENTS_R  SCORE \n",
      "---  ------  ------------  --------  ------  ------  ------  ------\n",
      "  0       0          0.00    150.79    0.45    0.31    0.81    0.00\n",
      "  7     200        337.18   3355.81   81.45   80.80   82.11    0.81\n",
      "[+] Saved pipeline to output directory\n",
      "output\\model-last\n"
     ]
    }
   ],
   "source": [
    "!python -m spacy train config.cfg --output ./output --paths.train ./custom_ner.spacy --paths.dev ./custom_ner.spacy"
   ]
  },
  {
   "cell_type": "code",
   "execution_count": 23,
   "id": "f445c499",
   "metadata": {},
   "outputs": [],
   "source": [
    "custom_med_NER = spacy.load('output/model-best')"
   ]
  },
  {
   "cell_type": "code",
   "execution_count": 24,
   "id": "9719c8dd",
   "metadata": {},
   "outputs": [
    {
     "data": {
      "text/html": [
       "<span class=\"tex2jax_ignore\"><div class=\"entities\" style=\"line-height: 2.5; direction: ltr\">\n",
       "<mark class=\"entity\" style=\"background: #F07857; padding: 0.45em 0.6em; margin: 0 0.25em; line-height: 1; border-radius: 0.35em;\">\n",
       "    Diarrhea\n",
       "    <span style=\"font-size: 0.8em; font-weight: bold; line-height: 1; border-radius: 0.35em; vertical-align: middle; margin-left: 0.5rem\">MEDICALCONDITION</span>\n",
       "</mark>\n",
       ", also spelled \n",
       "<mark class=\"entity\" style=\"background: #F07857; padding: 0.45em 0.6em; margin: 0 0.25em; line-height: 1; border-radius: 0.35em;\">\n",
       "    diarrhoea\n",
       "    <span style=\"font-size: 0.8em; font-weight: bold; line-height: 1; border-radius: 0.35em; vertical-align: middle; margin-left: 0.5rem\">MEDICALCONDITION</span>\n",
       "</mark>\n",
       ", is the condition of having at least three loose, liquid, or \n",
       "<mark class=\"entity\" style=\"background: #F07857; padding: 0.45em 0.6em; margin: 0 0.25em; line-height: 1; border-radius: 0.35em;\">\n",
       "    watery bowel\n",
       "    <span style=\"font-size: 0.8em; font-weight: bold; line-height: 1; border-radius: 0.35em; vertical-align: middle; margin-left: 0.5rem\">MEDICALCONDITION</span>\n",
       "</mark>\n",
       " movements each day.[2] It often lasts for a few days and can result in \n",
       "<mark class=\"entity\" style=\"background: #F07857; padding: 0.45em 0.6em; margin: 0 0.25em; line-height: 1; border-radius: 0.35em;\">\n",
       "    dehydration\n",
       "    <span style=\"font-size: 0.8em; font-weight: bold; line-height: 1; border-radius: 0.35em; vertical-align: middle; margin-left: 0.5rem\">MEDICALCONDITION</span>\n",
       "</mark>\n",
       " due to fluid loss.[2] Signs of \n",
       "<mark class=\"entity\" style=\"background: #F07857; padding: 0.45em 0.6em; margin: 0 0.25em; line-height: 1; border-radius: 0.35em;\">\n",
       "    dehydration\n",
       "    <span style=\"font-size: 0.8em; font-weight: bold; line-height: 1; border-radius: 0.35em; vertical-align: middle; margin-left: 0.5rem\">MEDICALCONDITION</span>\n",
       "</mark>\n",
       " often begin with loss of the normal stretchiness of the skin and irritable behaviour.[2] This can progress to decreased urination, loss of skin color, a \n",
       "<mark class=\"entity\" style=\"background: #F07857; padding: 0.45em 0.6em; margin: 0 0.25em; line-height: 1; border-radius: 0.35em;\">\n",
       "    fast heart\n",
       "    <span style=\"font-size: 0.8em; font-weight: bold; line-height: 1; border-radius: 0.35em; vertical-align: middle; margin-left: 0.5rem\">MEDICALCONDITION</span>\n",
       "</mark>\n",
       " rate, and a decrease in responsiveness as it becomes more severe.[2] Loose but non-watery stools in babies who are exclusively breastfed, however, are normal</div></span>"
      ],
      "text/plain": [
       "<IPython.core.display.HTML object>"
      ]
     },
     "metadata": {},
     "output_type": "display_data"
    }
   ],
   "source": [
    "\n",
    "docx = custom_med_NER('Diarrhea, also spelled diarrhoea, is the condition of having at least three loose, liquid, or watery bowel movements each day.[2] It often lasts for a few days and can result in dehydration due to fluid loss.[2] Signs of dehydration often begin with loss of the normal stretchiness of the skin and irritable behaviour.[2] This can progress to decreased urination, loss of skin color, a fast heart rate, and a decrease in responsiveness as it becomes more severe.[2] Loose but non-watery stools in babies who are exclusively breastfed, however, are normal')\n",
    "\n",
    "colors= {'PATHOGEN': '#D49137', 'MEDICINE': '#BE398D', 'MEDICALCONDITION': '#F07857'}\n",
    "options = {'colors': colors}\n",
    "\n",
    "spacy.displacy.render(docx, style='ent', options=options, jupyter=True)"
   ]
  },
  {
   "cell_type": "code",
   "execution_count": 28,
   "id": "cb811d01",
   "metadata": {},
   "outputs": [],
   "source": [
    "doc2 =  \"\"\"Influenza, commonly known as \"the flu\", is an infectious disease caused by influenza viruses. \n",
    "          Symptoms range from mild to severe and often include fever, runny nose, sore throat, muscle pain, \n",
    "          headache, coughing, and fatigue. These symptoms begin from one to four days after exposure to t\n",
    "          he virus (typically two days) and last for about 2–8 days. Diarrhea and vomiting can occur, \n",
    "          particularly in children. Influenza may progress to pneumonia, which can be caused by the virus or \n",
    "          by a subsequent bacterial infection. Other complications of infection include acute respiratory \n",
    "          distress syndrome, meningitis, encephalitis,\n",
    "          and worsening of pre-existing health problems such as asthma and cardiovascular disease.\"\"\""
   ]
  },
  {
   "cell_type": "code",
   "execution_count": 31,
   "id": "59223101",
   "metadata": {},
   "outputs": [
    {
     "data": {
      "text/html": [
       "<span class=\"tex2jax_ignore\"><div class=\"entities\" style=\"line-height: 2.5; direction: ltr\">\n",
       "<mark class=\"entity\" style=\"background: #D49137; padding: 0.45em 0.6em; margin: 0 0.25em; line-height: 1; border-radius: 0.35em;\">\n",
       "    Influenza\n",
       "    <span style=\"font-size: 0.8em; font-weight: bold; line-height: 1; border-radius: 0.35em; vertical-align: middle; margin-left: 0.5rem\">PATHOGEN</span>\n",
       "</mark>\n",
       ", commonly known as &quot;the flu&quot;, is an infectious disease caused by influenza viruses. </br>          Symptoms range from mild to severe and often include fever, runny nose, \n",
       "<mark class=\"entity\" style=\"background: #F07857; padding: 0.45em 0.6em; margin: 0 0.25em; line-height: 1; border-radius: 0.35em;\">\n",
       "    sore throat\n",
       "    <span style=\"font-size: 0.8em; font-weight: bold; line-height: 1; border-radius: 0.35em; vertical-align: middle; margin-left: 0.5rem\">MEDICALCONDITION</span>\n",
       "</mark>\n",
       ", \n",
       "<mark class=\"entity\" style=\"background: #F07857; padding: 0.45em 0.6em; margin: 0 0.25em; line-height: 1; border-radius: 0.35em;\">\n",
       "    muscle pain\n",
       "    <span style=\"font-size: 0.8em; font-weight: bold; line-height: 1; border-radius: 0.35em; vertical-align: middle; margin-left: 0.5rem\">MEDICALCONDITION</span>\n",
       "</mark>\n",
       ", </br>          \n",
       "<mark class=\"entity\" style=\"background: #F07857; padding: 0.45em 0.6em; margin: 0 0.25em; line-height: 1; border-radius: 0.35em;\">\n",
       "    headache\n",
       "    <span style=\"font-size: 0.8em; font-weight: bold; line-height: 1; border-radius: 0.35em; vertical-align: middle; margin-left: 0.5rem\">MEDICALCONDITION</span>\n",
       "</mark>\n",
       ", \n",
       "<mark class=\"entity\" style=\"background: #F07857; padding: 0.45em 0.6em; margin: 0 0.25em; line-height: 1; border-radius: 0.35em;\">\n",
       "    coughing\n",
       "    <span style=\"font-size: 0.8em; font-weight: bold; line-height: 1; border-radius: 0.35em; vertical-align: middle; margin-left: 0.5rem\">MEDICALCONDITION</span>\n",
       "</mark>\n",
       ", and fatigue. These symptoms begin from one to four days after exposure to t</br>          he virus (typically two days) and last for about 2–8 days. \n",
       "<mark class=\"entity\" style=\"background: #F07857; padding: 0.45em 0.6em; margin: 0 0.25em; line-height: 1; border-radius: 0.35em;\">\n",
       "    Diarrhea\n",
       "    <span style=\"font-size: 0.8em; font-weight: bold; line-height: 1; border-radius: 0.35em; vertical-align: middle; margin-left: 0.5rem\">MEDICALCONDITION</span>\n",
       "</mark>\n",
       " and \n",
       "<mark class=\"entity\" style=\"background: #F07857; padding: 0.45em 0.6em; margin: 0 0.25em; line-height: 1; border-radius: 0.35em;\">\n",
       "    vomiting\n",
       "    <span style=\"font-size: 0.8em; font-weight: bold; line-height: 1; border-radius: 0.35em; vertical-align: middle; margin-left: 0.5rem\">MEDICALCONDITION</span>\n",
       "</mark>\n",
       " can occur, </br>          particularly in children. Influenza may progress to pneumonia, which can be caused by the virus or </br>          by a subsequent bacterial infection. Other complications of infection include acute respiratory </br>          distress syndrome, \n",
       "<mark class=\"entity\" style=\"background: #F07857; padding: 0.45em 0.6em; margin: 0 0.25em; line-height: 1; border-radius: 0.35em;\">\n",
       "    meningitis\n",
       "    <span style=\"font-size: 0.8em; font-weight: bold; line-height: 1; border-radius: 0.35em; vertical-align: middle; margin-left: 0.5rem\">MEDICALCONDITION</span>\n",
       "</mark>\n",
       ", \n",
       "<mark class=\"entity\" style=\"background: #F07857; padding: 0.45em 0.6em; margin: 0 0.25em; line-height: 1; border-radius: 0.35em;\">\n",
       "    encephalitis\n",
       "    <span style=\"font-size: 0.8em; font-weight: bold; line-height: 1; border-radius: 0.35em; vertical-align: middle; margin-left: 0.5rem\">MEDICALCONDITION</span>\n",
       "</mark>\n",
       ",</br>          and worsening of pre-existing health problems such as \n",
       "<mark class=\"entity\" style=\"background: #F07857; padding: 0.45em 0.6em; margin: 0 0.25em; line-height: 1; border-radius: 0.35em;\">\n",
       "    asthma\n",
       "    <span style=\"font-size: 0.8em; font-weight: bold; line-height: 1; border-radius: 0.35em; vertical-align: middle; margin-left: 0.5rem\">MEDICALCONDITION</span>\n",
       "</mark>\n",
       " and cardiovascular disease.</div></span>"
      ],
      "text/plain": [
       "<IPython.core.display.HTML object>"
      ]
     },
     "metadata": {},
     "output_type": "display_data"
    }
   ],
   "source": [
    "result2 = custom_med_NER(doc2)\n",
    "\n",
    "spacy.displacy.render(result2, style='ent', options=options, jupyter=True)"
   ]
  },
  {
   "cell_type": "code",
   "execution_count": 36,
   "id": "b3f7c020",
   "metadata": {},
   "outputs": [],
   "source": [
    "doc3 = \"\"\"Frequent coughing usually indicates the presence of a disease. Many viruses and bacteria benefit,\n",
    "from an evolutionary perspective, by causing the host to cough, which helps to spread the disease to new hosts. \n",
    "Most of the time, irregular coughing is caused by a respiratory tract infection but can also be triggered \n",
    "by choking, smoking, air pollution,[1] asthma, gastroesophageal reflux disease, \n",
    "post-nasal drip, chronic bronchitis, lung tumors, heart failure and medications such as \n",
    "angiotensin-converting-enzyme inhibitors (ACE inhibitors) and beta blockers.[2]\n",
    "Treatment should target the cause; for example, smoking cessation or discontinuing ACE inhibitors.\n",
    "Cough suppressants such as codeine or dextromethorphan are frequently prescribed, but have been \n",
    "demonstrated to have little effect. Other treatment options may target airway inflammation or \n",
    "may promote mucus expectoration. As it is a natural protective reflex, suppressing the cough \n",
    "reflex might have damaging effects, especially if the cough is productive.\"\"\""
   ]
  },
  {
   "cell_type": "code",
   "execution_count": 37,
   "id": "58466ae1",
   "metadata": {},
   "outputs": [
    {
     "data": {
      "text/html": [
       "<span class=\"tex2jax_ignore\"><div class=\"entities\" style=\"line-height: 2.5; direction: ltr\">Frequent coughing usually indicates the presence of a disease. Many viruses and bacteria benefit,</br>from an evolutionary perspective, by causing the host to cough, which helps to spread the disease to new hosts. </br>Most of the time, \n",
       "<mark class=\"entity\" style=\"background: #F07857; padding: 0.45em 0.6em; margin: 0 0.25em; line-height: 1; border-radius: 0.35em;\">\n",
       "    irregular coughing\n",
       "    <span style=\"font-size: 0.8em; font-weight: bold; line-height: 1; border-radius: 0.35em; vertical-align: middle; margin-left: 0.5rem\">MEDICALCONDITION</span>\n",
       "</mark>\n",
       " is caused by a respiratory tract infection but can also be triggered </br>by choking, smoking, air pollution,[1] asthma, gastroesophageal reflux disease, </br>\n",
       "<mark class=\"entity\" style=\"background: #F07857; padding: 0.45em 0.6em; margin: 0 0.25em; line-height: 1; border-radius: 0.35em;\">\n",
       "    post-\n",
       "    <span style=\"font-size: 0.8em; font-weight: bold; line-height: 1; border-radius: 0.35em; vertical-align: middle; margin-left: 0.5rem\">MEDICALCONDITION</span>\n",
       "</mark>\n",
       "nasal drip, chronic bronchitis, lung tumors, heart failure and medications such as </br>\n",
       "<mark class=\"entity\" style=\"background: #BE398D; padding: 0.45em 0.6em; margin: 0 0.25em; line-height: 1; border-radius: 0.35em;\">\n",
       "    angiotensin\n",
       "    <span style=\"font-size: 0.8em; font-weight: bold; line-height: 1; border-radius: 0.35em; vertical-align: middle; margin-left: 0.5rem\">MEDICINE</span>\n",
       "</mark>\n",
       "-converting-enzyme inhibitors (ACE inhibitors) and beta blockers.[2]</br>Treatment should target the cause; for example, smoking cessation or \n",
       "<mark class=\"entity\" style=\"background: #BE398D; padding: 0.45em 0.6em; margin: 0 0.25em; line-height: 1; border-radius: 0.35em;\">\n",
       "    discontinuing\n",
       "    <span style=\"font-size: 0.8em; font-weight: bold; line-height: 1; border-radius: 0.35em; vertical-align: middle; margin-left: 0.5rem\">MEDICINE</span>\n",
       "</mark>\n",
       " ACE inhibitors.</br>\n",
       "<mark class=\"entity\" style=\"background: #F07857; padding: 0.45em 0.6em; margin: 0 0.25em; line-height: 1; border-radius: 0.35em;\">\n",
       "    Cough suppressants\n",
       "    <span style=\"font-size: 0.8em; font-weight: bold; line-height: 1; border-radius: 0.35em; vertical-align: middle; margin-left: 0.5rem\">MEDICALCONDITION</span>\n",
       "</mark>\n",
       " such as \n",
       "<mark class=\"entity\" style=\"background: #BE398D; padding: 0.45em 0.6em; margin: 0 0.25em; line-height: 1; border-radius: 0.35em;\">\n",
       "    codeine\n",
       "    <span style=\"font-size: 0.8em; font-weight: bold; line-height: 1; border-radius: 0.35em; vertical-align: middle; margin-left: 0.5rem\">MEDICINE</span>\n",
       "</mark>\n",
       " or \n",
       "<mark class=\"entity\" style=\"background: #BE398D; padding: 0.45em 0.6em; margin: 0 0.25em; line-height: 1; border-radius: 0.35em;\">\n",
       "    dextromethorphan\n",
       "    <span style=\"font-size: 0.8em; font-weight: bold; line-height: 1; border-radius: 0.35em; vertical-align: middle; margin-left: 0.5rem\">MEDICINE</span>\n",
       "</mark>\n",
       " are frequently prescribed, but have been </br>demonstrated to have little effect. Other treatment options may target airway inflammation or </br>may promote mucus expectoration. As it is a natural protective reflex, suppressing the cough </br>reflex might have damaging effects, especially if the cough is productive.</div></span>"
      ],
      "text/plain": [
       "<IPython.core.display.HTML object>"
      ]
     },
     "metadata": {},
     "output_type": "display_data"
    }
   ],
   "source": [
    "result3 = custom_med_NER(doc3)\n",
    "spacy.displacy.render(result3, style='ent', options=options, jupyter=True)"
   ]
  },
  {
   "cell_type": "markdown",
   "id": "36021386",
   "metadata": {},
   "source": [
    "## Conclusion"
   ]
  },
  {
   "cell_type": "markdown",
   "id": "de4efe2d",
   "metadata": {},
   "source": [
    "\n",
    "We tried our hands on building a named entity recognition model to recognize three classes of words in medical data. The model was trained for only 100 epochs and is not perfect, but still, it was able to recognize some of the words.\n",
    "\n",
    "In the near future, I'll build a front end application with flask and html and deploy it on github pages so that a user can try the model directly in the browser.\n",
    "\n",
    "Disclaimer: This article is meant for sharing knowledge. It's not meant to diagnose nor treat any ailment."
   ]
  }
 ],
 "metadata": {
  "kernelspec": {
   "display_name": "Python 3 (ipykernel)",
   "language": "python",
   "name": "python3"
  },
  "language_info": {
   "codemirror_mode": {
    "name": "ipython",
    "version": 3
   },
   "file_extension": ".py",
   "mimetype": "text/x-python",
   "name": "python",
   "nbconvert_exporter": "python",
   "pygments_lexer": "ipython3",
   "version": "3.10.9"
  },
  "vscode": {
   "interpreter": {
    "hash": "3a8ddf0b9b53c1487d93b65b4d93f3cf451d0fdf101c93b7245185d66f951682"
   }
  }
 },
 "nbformat": 4,
 "nbformat_minor": 5
}
