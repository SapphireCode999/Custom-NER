{
 "cells": [
  {
   "cell_type": "code",
   "execution_count": 1,
   "id": "7249ebb0",
   "metadata": {},
   "outputs": [],
   "source": [
    "import pandas as pd \n",
    "import numpy as np \n",
    "import matplotlib.pyplot as plt \n",
    "import seaborn as sns"
   ]
  },
  {
   "cell_type": "code",
   "execution_count": 2,
   "id": "2037c726",
   "metadata": {},
   "outputs": [
    {
     "name": "stderr",
     "output_type": "stream",
     "text": [
      "C:\\Users\\Surface\\anaconda3\\envs\\tensorflow_env\\lib\\site-packages\\tqdm\\auto.py:22: TqdmWarning: IProgress not found. Please update jupyter and ipywidgets. See https://ipywidgets.readthedocs.io/en/stable/user_install.html\n",
      "  from .autonotebook import tqdm as notebook_tqdm\n"
     ]
    }
   ],
   "source": [
    "import spacy\n",
    "import json\n",
    "import scispacy\n",
    "from spacy import displacy\n",
    "from spacy.tokens import Doc, DocBin\n",
    "from spacy.util import filter_spans\n",
    "from tqdm import tqdm"
   ]
  },
  {
   "cell_type": "code",
   "execution_count": 3,
   "id": "698d6165",
   "metadata": {},
   "outputs": [
    {
     "name": "stdout",
     "output_type": "stream",
     "text": [
      "Collecting en-core-web-lg==3.2.0\n",
      "  Downloading https://github.com/explosion/spacy-models/releases/download/en_core_web_lg-3.2.0/en_core_web_lg-3.2.0-py3-none-any.whl (777.4 MB)\n",
      "     ------------------------------------ 777.4/777.4 MB 106.6 kB/s eta 0:00:00\n",
      "Requirement already satisfied: spacy<3.3.0,>=3.2.0 in c:\\users\\surface\\anaconda3\\envs\\tensorflow_env\\lib\\site-packages (from en-core-web-lg==3.2.0) (3.2.5)\n",
      "Requirement already satisfied: setuptools in c:\\users\\surface\\anaconda3\\envs\\tensorflow_env\\lib\\site-packages (from spacy<3.3.0,>=3.2.0->en-core-web-lg==3.2.0) (65.5.0)\n",
      "Requirement already satisfied: catalogue<2.1.0,>=2.0.6 in c:\\users\\surface\\anaconda3\\envs\\tensorflow_env\\lib\\site-packages (from spacy<3.3.0,>=3.2.0->en-core-web-lg==3.2.0) (2.0.7)\n",
      "Requirement already satisfied: spacy-legacy<3.1.0,>=3.0.8 in c:\\users\\surface\\anaconda3\\envs\\tensorflow_env\\lib\\site-packages (from spacy<3.3.0,>=3.2.0->en-core-web-lg==3.2.0) (3.0.10)\n",
      "Requirement already satisfied: jinja2 in c:\\users\\surface\\anaconda3\\envs\\tensorflow_env\\lib\\site-packages (from spacy<3.3.0,>=3.2.0->en-core-web-lg==3.2.0) (3.1.2)\n",
      "Requirement already satisfied: murmurhash<1.1.0,>=0.28.0 in c:\\users\\surface\\anaconda3\\envs\\tensorflow_env\\lib\\site-packages (from spacy<3.3.0,>=3.2.0->en-core-web-lg==3.2.0) (1.0.7)\n",
      "Requirement already satisfied: numpy>=1.15.0 in c:\\users\\surface\\anaconda3\\envs\\tensorflow_env\\lib\\site-packages (from spacy<3.3.0,>=3.2.0->en-core-web-lg==3.2.0) (1.22.3)\n",
      "Requirement already satisfied: smart-open<7.0.0,>=5.2.1 in c:\\users\\surface\\anaconda3\\envs\\tensorflow_env\\lib\\site-packages (from spacy<3.3.0,>=3.2.0->en-core-web-lg==3.2.0) (5.2.1)\n",
      "Requirement already satisfied: spacy-loggers<2.0.0,>=1.0.0 in c:\\users\\surface\\anaconda3\\envs\\tensorflow_env\\lib\\site-packages (from spacy<3.3.0,>=3.2.0->en-core-web-lg==3.2.0) (1.0.1)\n",
      "Requirement already satisfied: requests<3.0.0,>=2.13.0 in c:\\users\\surface\\anaconda3\\envs\\tensorflow_env\\lib\\site-packages (from spacy<3.3.0,>=3.2.0->en-core-web-lg==3.2.0) (2.28.1)\n",
      "Requirement already satisfied: cymem<2.1.0,>=2.0.2 in c:\\users\\surface\\anaconda3\\envs\\tensorflow_env\\lib\\site-packages (from spacy<3.3.0,>=3.2.0->en-core-web-lg==3.2.0) (2.0.6)\n",
      "Requirement already satisfied: langcodes<4.0.0,>=3.2.0 in c:\\users\\surface\\anaconda3\\envs\\tensorflow_env\\lib\\site-packages (from spacy<3.3.0,>=3.2.0->en-core-web-lg==3.2.0) (3.3.0)\n",
      "Requirement already satisfied: pathy>=0.3.5 in c:\\users\\surface\\anaconda3\\envs\\tensorflow_env\\lib\\site-packages (from spacy<3.3.0,>=3.2.0->en-core-web-lg==3.2.0) (0.6.1)\n",
      "Requirement already satisfied: preshed<3.1.0,>=3.0.2 in c:\\users\\surface\\anaconda3\\envs\\tensorflow_env\\lib\\site-packages (from spacy<3.3.0,>=3.2.0->en-core-web-lg==3.2.0) (3.0.6)\n",
      "Requirement already satisfied: typer<0.5.0,>=0.3.0 in c:\\users\\surface\\anaconda3\\envs\\tensorflow_env\\lib\\site-packages (from spacy<3.3.0,>=3.2.0->en-core-web-lg==3.2.0) (0.4.1)\n",
      "Requirement already satisfied: pydantic!=1.8,!=1.8.1,<1.9.0,>=1.7.4 in c:\\users\\surface\\anaconda3\\envs\\tensorflow_env\\lib\\site-packages (from spacy<3.3.0,>=3.2.0->en-core-web-lg==3.2.0) (1.8.2)\n",
      "Requirement already satisfied: thinc<8.1.0,>=8.0.12 in c:\\users\\surface\\anaconda3\\envs\\tensorflow_env\\lib\\site-packages (from spacy<3.3.0,>=3.2.0->en-core-web-lg==3.2.0) (8.0.17)\n",
      "Requirement already satisfied: tqdm<5.0.0,>=4.38.0 in c:\\users\\surface\\anaconda3\\envs\\tensorflow_env\\lib\\site-packages (from spacy<3.3.0,>=3.2.0->en-core-web-lg==3.2.0) (4.64.1)\n",
      "Requirement already satisfied: blis<0.8.0,>=0.4.0 in c:\\users\\surface\\anaconda3\\envs\\tensorflow_env\\lib\\site-packages (from spacy<3.3.0,>=3.2.0->en-core-web-lg==3.2.0) (0.7.9)\n",
      "Requirement already satisfied: srsly<3.0.0,>=2.4.1 in c:\\users\\surface\\anaconda3\\envs\\tensorflow_env\\lib\\site-packages (from spacy<3.3.0,>=3.2.0->en-core-web-lg==3.2.0) (2.4.3)\n",
      "Requirement already satisfied: packaging>=20.0 in c:\\users\\surface\\anaconda3\\envs\\tensorflow_env\\lib\\site-packages (from spacy<3.3.0,>=3.2.0->en-core-web-lg==3.2.0) (21.3)\n",
      "Requirement already satisfied: wasabi<1.1.0,>=0.8.1 in c:\\users\\surface\\anaconda3\\envs\\tensorflow_env\\lib\\site-packages (from spacy<3.3.0,>=3.2.0->en-core-web-lg==3.2.0) (0.9.1)\n",
      "Requirement already satisfied: pyparsing!=3.0.5,>=2.0.2 in c:\\users\\surface\\anaconda3\\envs\\tensorflow_env\\lib\\site-packages (from packaging>=20.0->spacy<3.3.0,>=3.2.0->en-core-web-lg==3.2.0) (3.0.9)\n",
      "Requirement already satisfied: typing-extensions>=3.7.4.3 in c:\\users\\surface\\anaconda3\\envs\\tensorflow_env\\lib\\site-packages (from pydantic!=1.8,!=1.8.1,<1.9.0,>=1.7.4->spacy<3.3.0,>=3.2.0->en-core-web-lg==3.2.0) (4.3.0)\n",
      "Requirement already satisfied: charset-normalizer<3,>=2 in c:\\users\\surface\\anaconda3\\envs\\tensorflow_env\\lib\\site-packages (from requests<3.0.0,>=2.13.0->spacy<3.3.0,>=3.2.0->en-core-web-lg==3.2.0) (2.0.4)\n",
      "Requirement already satisfied: certifi>=2017.4.17 in c:\\users\\surface\\anaconda3\\envs\\tensorflow_env\\lib\\site-packages (from requests<3.0.0,>=2.13.0->spacy<3.3.0,>=3.2.0->en-core-web-lg==3.2.0) (2022.12.7)\n",
      "Requirement already satisfied: idna<4,>=2.5 in c:\\users\\surface\\anaconda3\\envs\\tensorflow_env\\lib\\site-packages (from requests<3.0.0,>=2.13.0->spacy<3.3.0,>=3.2.0->en-core-web-lg==3.2.0) (3.4)\n",
      "Requirement already satisfied: urllib3<1.27,>=1.21.1 in c:\\users\\surface\\anaconda3\\envs\\tensorflow_env\\lib\\site-packages (from requests<3.0.0,>=2.13.0->spacy<3.3.0,>=3.2.0->en-core-web-lg==3.2.0) (1.26.12)\n",
      "Requirement already satisfied: colorama in c:\\users\\surface\\anaconda3\\envs\\tensorflow_env\\lib\\site-packages (from tqdm<5.0.0,>=4.38.0->spacy<3.3.0,>=3.2.0->en-core-web-lg==3.2.0) (0.4.5)\n",
      "Requirement already satisfied: click<9.0.0,>=7.1.1 in c:\\users\\surface\\anaconda3\\envs\\tensorflow_env\\lib\\site-packages (from typer<0.5.0,>=0.3.0->spacy<3.3.0,>=3.2.0->en-core-web-lg==3.2.0) (8.0.4)\n",
      "Requirement already satisfied: MarkupSafe>=2.0 in c:\\users\\surface\\anaconda3\\envs\\tensorflow_env\\lib\\site-packages (from jinja2->spacy<3.3.0,>=3.2.0->en-core-web-lg==3.2.0) (2.1.1)\n",
      "[+] Download and installation successful\n",
      "You can now load the package via spacy.load('en_core_web_lg')\n"
     ]
    }
   ],
   "source": [
    "!python -m spacy download en_core_web_lg"
   ]
  },
  {
   "cell_type": "code",
   "execution_count": 4,
   "id": "c97f7368",
   "metadata": {},
   "outputs": [
    {
     "data": {
      "text/plain": [
       "<spacy.lang.en.English at 0x118135e77f0>"
      ]
     },
     "execution_count": 4,
     "metadata": {},
     "output_type": "execute_result"
    }
   ],
   "source": [
    "nlp = spacy.load(\"en_core_web_lg\")\n",
    "nlp"
   ]
  },
  {
   "cell_type": "code",
   "execution_count": 5,
   "id": "b1ec5da3",
   "metadata": {},
   "outputs": [],
   "source": [
    "doc = nlp('Elephants are found in Africa and India')"
   ]
  },
  {
   "cell_type": "code",
   "execution_count": 6,
   "id": "17fa4685",
   "metadata": {},
   "outputs": [
    {
     "data": {
      "text/plain": [
       "(Africa, India)"
      ]
     },
     "execution_count": 6,
     "metadata": {},
     "output_type": "execute_result"
    }
   ],
   "source": [
    "doc.ents"
   ]
  },
  {
   "cell_type": "code",
   "execution_count": 7,
   "id": "3643493e",
   "metadata": {},
   "outputs": [
    {
     "data": {
      "text/html": [
       "<span class=\"tex2jax_ignore\"><div class=\"entities\" style=\"line-height: 2.5; direction: ltr\">Elephants are found in \n",
       "<mark class=\"entity\" style=\"background: #ff9561; padding: 0.45em 0.6em; margin: 0 0.25em; line-height: 1; border-radius: 0.35em;\">\n",
       "    Africa\n",
       "    <span style=\"font-size: 0.8em; font-weight: bold; line-height: 1; border-radius: 0.35em; vertical-align: middle; margin-left: 0.5rem\">LOC</span>\n",
       "</mark>\n",
       " and \n",
       "<mark class=\"entity\" style=\"background: #feca74; padding: 0.45em 0.6em; margin: 0 0.25em; line-height: 1; border-radius: 0.35em;\">\n",
       "    India\n",
       "    <span style=\"font-size: 0.8em; font-weight: bold; line-height: 1; border-radius: 0.35em; vertical-align: middle; margin-left: 0.5rem\">GPE</span>\n",
       "</mark>\n",
       "</div></span>"
      ],
      "text/plain": [
       "<IPython.core.display.HTML object>"
      ]
     },
     "metadata": {},
     "output_type": "display_data"
    }
   ],
   "source": [
    "displacy.render(doc, style=\"ent\", jupyter=True)"
   ]
  },
  {
   "cell_type": "code",
   "execution_count": 8,
   "id": "b34f642e",
   "metadata": {},
   "outputs": [],
   "source": [
    "# import json\n",
    "with open('Corona2.json', 'r') as file:\n",
    "    data = json.load(file)"
   ]
  },
  {
   "cell_type": "code",
   "execution_count": 9,
   "id": "025f5248",
   "metadata": {},
   "outputs": [
    {
     "data": {
      "text/plain": [
       "{'id': '487c93e3-0d45-4088-a378-cf3a01c8953d',\n",
       " 'content': 'Diarrhea, also spelled diarrhoea, is the condition of having at least three loose, liquid, or watery bowel movements each day.[2] It often lasts for a few days and can result in dehydration due to fluid loss.[2] Signs of dehydration often begin with loss of the normal stretchiness of the skin and irritable behaviour.[2] This can progress to decreased urination, loss of skin color, a fast heart rate, and a decrease in responsiveness as it becomes more severe.[2] Loose but non-watery stools in babies who are exclusively breastfed, however, are normal.[2]',\n",
       " 'metadata': {},\n",
       " 'annotations': [{'id': '28601a42-c8a9-44e2-aeea-8939cb1db1a9',\n",
       "   'tag_id': '03eb3e50-d4d8-4261-a60b-fa5aee5deb4a',\n",
       "   'end': 382,\n",
       "   'start': 364,\n",
       "   'example_id': '487c93e3-0d45-4088-a378-cf3a01c8953d',\n",
       "   'tag_name': 'MedicalCondition',\n",
       "   'value': 'loss of skin color',\n",
       "   'correct': None,\n",
       "   'human_annotations': [{'timestamp': '2020-03-21T00:23:08.961000Z',\n",
       "     'annotator_id': 1,\n",
       "     'tagged_token_id': '28601a42-c8a9-44e2-aeea-8939cb1db1a9',\n",
       "     'name': 'Ashpat123',\n",
       "     'reason': 'exploration'}],\n",
       "   'model_annotations': []},\n",
       "  {'id': '63722e91-3f62-4951-9159-688448406d2a',\n",
       "   'tag_id': '03eb3e50-d4d8-4261-a60b-fa5aee5deb4a',\n",
       "   'end': 8,\n",
       "   'start': 0,\n",
       "   'example_id': '487c93e3-0d45-4088-a378-cf3a01c8953d',\n",
       "   'tag_name': 'MedicalCondition',\n",
       "   'value': 'Diarrhea',\n",
       "   'correct': None,\n",
       "   'human_annotations': [{'timestamp': '2020-03-21T00:22:23.535000Z',\n",
       "     'annotator_id': 1,\n",
       "     'tagged_token_id': '63722e91-3f62-4951-9159-688448406d2a',\n",
       "     'name': 'Ashpat123',\n",
       "     'reason': 'exploration'}],\n",
       "   'model_annotations': []},\n",
       "  {'id': '78c60aa6-bfee-46b4-bab3-0e5566551bca',\n",
       "   'tag_id': '03eb3e50-d4d8-4261-a60b-fa5aee5deb4a',\n",
       "   'end': 116,\n",
       "   'start': 94,\n",
       "   'example_id': '487c93e3-0d45-4088-a378-cf3a01c8953d',\n",
       "   'tag_name': 'MedicalCondition',\n",
       "   'value': 'watery bowel movements',\n",
       "   'correct': None,\n",
       "   'human_annotations': [{'timestamp': '2020-03-21T00:22:35.157000Z',\n",
       "     'annotator_id': 1,\n",
       "     'tagged_token_id': '78c60aa6-bfee-46b4-bab3-0e5566551bca',\n",
       "     'name': 'Ashpat123',\n",
       "     'reason': 'exploration'}],\n",
       "   'model_annotations': []},\n",
       "  {'id': '81f7b1d3-ac4f-4239-aef4-eb1402d66257',\n",
       "   'tag_id': '03eb3e50-d4d8-4261-a60b-fa5aee5deb4a',\n",
       "   'end': 189,\n",
       "   'start': 178,\n",
       "   'example_id': '487c93e3-0d45-4088-a378-cf3a01c8953d',\n",
       "   'tag_name': 'MedicalCondition',\n",
       "   'value': 'dehydration',\n",
       "   'correct': None,\n",
       "   'human_annotations': [{'timestamp': '2020-03-21T00:22:56.913000Z',\n",
       "     'annotator_id': 1,\n",
       "     'tagged_token_id': '81f7b1d3-ac4f-4239-aef4-eb1402d66257',\n",
       "     'name': 'Ashpat123',\n",
       "     'reason': 'exploration'}],\n",
       "   'model_annotations': []},\n",
       "  {'id': 'dec80dca-33ab-4392-8d72-f0524695992f',\n",
       "   'tag_id': '03eb3e50-d4d8-4261-a60b-fa5aee5deb4a',\n",
       "   'end': 232,\n",
       "   'start': 221,\n",
       "   'example_id': '487c93e3-0d45-4088-a378-cf3a01c8953d',\n",
       "   'tag_name': 'MedicalCondition',\n",
       "   'value': 'dehydration',\n",
       "   'correct': None,\n",
       "   'human_annotations': [{'timestamp': '2020-03-21T00:22:49.804000Z',\n",
       "     'annotator_id': 1,\n",
       "     'tagged_token_id': 'dec80dca-33ab-4392-8d72-f0524695992f',\n",
       "     'name': 'Ashpat123',\n",
       "     'reason': 'exploration'}],\n",
       "   'model_annotations': []},\n",
       "  {'id': 'dff63591-717a-4de7-8cc3-70d8978036f0',\n",
       "   'tag_id': '03eb3e50-d4d8-4261-a60b-fa5aee5deb4a',\n",
       "   'end': 32,\n",
       "   'start': 23,\n",
       "   'example_id': '487c93e3-0d45-4088-a378-cf3a01c8953d',\n",
       "   'tag_name': 'MedicalCondition',\n",
       "   'value': 'diarrhoea',\n",
       "   'correct': None,\n",
       "   'human_annotations': [{'timestamp': '2020-03-21T00:22:26.974000Z',\n",
       "     'annotator_id': 1,\n",
       "     'tagged_token_id': 'dff63591-717a-4de7-8cc3-70d8978036f0',\n",
       "     'name': 'Ashpat123',\n",
       "     'reason': 'exploration'}],\n",
       "   'model_annotations': []},\n",
       "  {'id': 'e7c60bff-6087-43f1-91e8-3436af311ceb',\n",
       "   'tag_id': '03eb3e50-d4d8-4261-a60b-fa5aee5deb4a',\n",
       "   'end': 435,\n",
       "   'start': 409,\n",
       "   'example_id': '487c93e3-0d45-4088-a378-cf3a01c8953d',\n",
       "   'tag_name': 'MedicalCondition',\n",
       "   'value': 'decrease in responsiveness',\n",
       "   'correct': None,\n",
       "   'human_annotations': [{'timestamp': '2020-03-21T00:23:36.374000Z',\n",
       "     'annotator_id': 1,\n",
       "     'tagged_token_id': 'e7c60bff-6087-43f1-91e8-3436af311ceb',\n",
       "     'name': 'Ashpat123',\n",
       "     'reason': 'exploration'}],\n",
       "   'model_annotations': []},\n",
       "  {'id': 'ee1170b3-1a3c-422c-97a3-aa6acf2e91b7',\n",
       "   'tag_id': '03eb3e50-d4d8-4261-a60b-fa5aee5deb4a',\n",
       "   'end': 401,\n",
       "   'start': 386,\n",
       "   'example_id': '487c93e3-0d45-4088-a378-cf3a01c8953d',\n",
       "   'tag_name': 'MedicalCondition',\n",
       "   'value': 'fast heart rate',\n",
       "   'correct': None,\n",
       "   'human_annotations': [{'timestamp': '2020-03-21T00:23:16.223000Z',\n",
       "     'annotator_id': 1,\n",
       "     'tagged_token_id': 'ee1170b3-1a3c-422c-97a3-aa6acf2e91b7',\n",
       "     'name': 'Ashpat123',\n",
       "     'reason': 'exploration'}],\n",
       "   'model_annotations': []}],\n",
       " 'classifications': []}"
      ]
     },
     "execution_count": 9,
     "metadata": {},
     "output_type": "execute_result"
    }
   ],
   "source": [
    "data['examples'][1]"
   ]
  },
  {
   "cell_type": "code",
   "execution_count": 10,
   "id": "9e55c578",
   "metadata": {},
   "outputs": [
    {
     "data": {
      "text/plain": [
       "dict_keys(['id', 'content', 'metadata', 'annotations', 'classifications'])"
      ]
     },
     "execution_count": 10,
     "metadata": {},
     "output_type": "execute_result"
    }
   ],
   "source": [
    "data['examples'][1].keys()"
   ]
  },
  {
   "cell_type": "code",
   "execution_count": 11,
   "id": "761a8f18",
   "metadata": {},
   "outputs": [
    {
     "data": {
      "text/plain": [
       "'Diarrhea, also spelled diarrhoea, is the condition of having at least three loose, liquid, or watery bowel movements each day.[2] It often lasts for a few days and can result in dehydration due to fluid loss.[2] Signs of dehydration often begin with loss of the normal stretchiness of the skin and irritable behaviour.[2] This can progress to decreased urination, loss of skin color, a fast heart rate, and a decrease in responsiveness as it becomes more severe.[2] Loose but non-watery stools in babies who are exclusively breastfed, however, are normal.[2]'"
      ]
     },
     "execution_count": 11,
     "metadata": {},
     "output_type": "execute_result"
    }
   ],
   "source": [
    "data['examples'][1]['content']"
   ]
  },
  {
   "cell_type": "code",
   "execution_count": 12,
   "id": "02e8f902",
   "metadata": {},
   "outputs": [
    {
     "data": {
      "text/plain": [
       "{'id': '28601a42-c8a9-44e2-aeea-8939cb1db1a9',\n",
       " 'tag_id': '03eb3e50-d4d8-4261-a60b-fa5aee5deb4a',\n",
       " 'end': 382,\n",
       " 'start': 364,\n",
       " 'example_id': '487c93e3-0d45-4088-a378-cf3a01c8953d',\n",
       " 'tag_name': 'MedicalCondition',\n",
       " 'value': 'loss of skin color',\n",
       " 'correct': None,\n",
       " 'human_annotations': [{'timestamp': '2020-03-21T00:23:08.961000Z',\n",
       "   'annotator_id': 1,\n",
       "   'tagged_token_id': '28601a42-c8a9-44e2-aeea-8939cb1db1a9',\n",
       "   'name': 'Ashpat123',\n",
       "   'reason': 'exploration'}],\n",
       " 'model_annotations': []}"
      ]
     },
     "execution_count": 12,
     "metadata": {},
     "output_type": "execute_result"
    }
   ],
   "source": [
    "data['examples'][1]['annotations'][0]"
   ]
  },
  {
   "cell_type": "markdown",
   "id": "febe4bd0",
   "metadata": {},
   "source": [
    "## We need the content and annotations."
   ]
  },
  {
   "cell_type": "code",
   "execution_count": 13,
   "id": "bc1fa557",
   "metadata": {},
   "outputs": [
    {
     "name": "stdout",
     "output_type": "stream",
     "text": [
      "{'text': 'Diarrhea, also spelled diarrhoea, is the condition of having at least three loose, liquid, or watery bowel movements each day.[2] It often lasts for a few days and can result in dehydration due to fluid loss.[2] Signs of dehydration often begin with loss of the normal stretchiness of the skin and irritable behaviour.[2] This can progress to decreased urination, loss of skin color, a fast heart rate, and a decrease in responsiveness as it becomes more severe.[2] Loose but non-watery stools in babies who are exclusively breastfed, however, are normal.[2]', 'entities': [(364, 382, 'MEDICALCONDITION'), (0, 8, 'MEDICALCONDITION'), (94, 116, 'MEDICALCONDITION'), (178, 189, 'MEDICALCONDITION'), (221, 232, 'MEDICALCONDITION'), (23, 32, 'MEDICALCONDITION'), (409, 435, 'MEDICALCONDITION'), (386, 401, 'MEDICALCONDITION')]}\n"
     ]
    }
   ],
   "source": [
    "train_data = []\n",
    "for example in data['examples']:\n",
    "    ent_dict = {}\n",
    "    ent_dict['text'] = example['content']\n",
    "    ent_dict['entities'] = []\n",
    "    for annotation in example['annotations']:\n",
    "        start = annotation['start']\n",
    "        end = annotation['end']\n",
    "        label = annotation['tag_name'].upper()\n",
    "        ent_dict['entities'].append((start, end, label))\n",
    "    train_data.append(ent_dict)\n",
    "\n",
    "print(train_data[1])"
   ]
  },
  {
   "cell_type": "code",
   "execution_count": 14,
   "id": "c11cb427",
   "metadata": {},
   "outputs": [
    {
     "data": {
      "text/plain": [
       "'Diarrhea, also spelled diarrhoea, is the condition of having at least three loose, liquid, or watery bowel movements each day.[2] It often lasts for a few days and can result in dehydration due to fluid loss.[2] Signs of dehydration often begin with loss of the normal stretchiness of the skin and irritable behaviour.[2] This can progress to decreased urination, loss of skin color, a fast heart rate, and a decrease in responsiveness as it becomes more severe.[2] Loose but non-watery stools in babies who are exclusively breastfed, however, are normal.[2]'"
      ]
     },
     "execution_count": 14,
     "metadata": {},
     "output_type": "execute_result"
    }
   ],
   "source": [
    "train_data[1]['text']"
   ]
  },
  {
   "cell_type": "code",
   "execution_count": 15,
   "id": "607a72fc",
   "metadata": {},
   "outputs": [
    {
     "data": {
      "text/plain": [
       "[(364, 382, 'MEDICALCONDITION'),\n",
       " (0, 8, 'MEDICALCONDITION'),\n",
       " (94, 116, 'MEDICALCONDITION'),\n",
       " (178, 189, 'MEDICALCONDITION'),\n",
       " (221, 232, 'MEDICALCONDITION'),\n",
       " (23, 32, 'MEDICALCONDITION'),\n",
       " (409, 435, 'MEDICALCONDITION'),\n",
       " (386, 401, 'MEDICALCONDITION')]"
      ]
     },
     "execution_count": 15,
     "metadata": {},
     "output_type": "execute_result"
    }
   ],
   "source": [
    "train_data[1]['entities']"
   ]
  },
  {
   "cell_type": "code",
   "execution_count": 16,
   "id": "96b32370",
   "metadata": {},
   "outputs": [
    {
     "data": {
      "text/plain": [
       "'loss of skin color'"
      ]
     },
     "execution_count": 16,
     "metadata": {},
     "output_type": "execute_result"
    }
   ],
   "source": [
    "train_data[1]['text'][364:382]"
   ]
  },
  {
   "cell_type": "code",
   "execution_count": 17,
   "id": "dfb88356",
   "metadata": {},
   "outputs": [
    {
     "data": {
      "text/plain": [
       "{'text': \"Hantaviruses, usually found in rodents and shrews, were discovered in two species of bats. The MouyassuÃ© virus (MOUV) was isolated from banana pipistrelle bats captured near MouyassuÃ© village in Cote d'Ivoire, West Africa. The Magboi virus was isolated from hairy slit-faced bats found near the Magboi River in Sierra Leone in 2011. They are single-stranded, negative sense, RNA viruses in the Bunyaviridae family.[29][30][31][32]\",\n",
       " 'entities': [(0, 12, 'PATHOGEN'),\n",
       "  (394, 406, 'PATHOGEN'),\n",
       "  (227, 239, 'PATHOGEN'),\n",
       "  (95, 110, 'PATHOGEN')]}"
      ]
     },
     "execution_count": 17,
     "metadata": {},
     "output_type": "execute_result"
    }
   ],
   "source": [
    "train_data[5]"
   ]
  },
  {
   "cell_type": "code",
   "execution_count": 18,
   "id": "0f96f8ca",
   "metadata": {},
   "outputs": [
    {
     "data": {
      "text/plain": [
       "'Hantaviruses'"
      ]
     },
     "execution_count": 18,
     "metadata": {},
     "output_type": "execute_result"
    }
   ],
   "source": [
    "train_data[5]['text'][0:12]"
   ]
  },
  {
   "cell_type": "markdown",
   "id": "77a7ec22",
   "metadata": {},
   "source": [
    "## We need to initialize a blank spacy model to build our custom NER model."
   ]
  },
  {
   "cell_type": "code",
   "execution_count": 19,
   "id": "12e419ec",
   "metadata": {},
   "outputs": [],
   "source": [
    "nlp_custom = spacy.blank('en')\n",
    "doc_bin = DocBin()"
   ]
  },
  {
   "cell_type": "code",
   "execution_count": 20,
   "id": "013e9dfb",
   "metadata": {},
   "outputs": [
    {
     "name": "stderr",
     "output_type": "stream",
     "text": [
      "100%|██████████| 31/31 [00:00<00:00, 119.69it/s]"
     ]
    },
    {
     "name": "stdout",
     "output_type": "stream",
     "text": [
      "No Span found\n",
      "No Span found\n",
      "No Span found\n",
      "No Span found\n",
      "No Span found\n",
      "No Span found\n",
      "No Span found\n",
      "No Span found\n",
      "No Span found\n",
      "No Span found\n",
      "No Span found\n",
      "No Span found\n",
      "No Span found\n",
      "No Span found\n",
      "No Span found\n",
      "No Span found\n",
      "No Span found\n",
      "No Span found\n",
      "No Span found\n",
      "No Span found\n",
      "No Span found\n",
      "No Span found\n",
      "No Span found\n",
      "No Span found\n",
      "No Span found\n",
      "No Span found\n",
      "No Span found\n"
     ]
    },
    {
     "name": "stderr",
     "output_type": "stream",
     "text": [
      "\n"
     ]
    }
   ],
   "source": [
    "for train_doc in tqdm(train_data):\n",
    "    text = train_doc['text']\n",
    "    labels = train_doc['entities']\n",
    "    doc = nlp_custom.make_doc(text)\n",
    "    ents = []\n",
    "    for start, end, label in labels:\n",
    "        span = doc.char_span(start, end, label=label, alignment_mode='contract')\n",
    "        if span is None:\n",
    "            print('No Span found')\n",
    "        else:\n",
    "            ents.append(span)\n",
    "    final_ents = filter_spans(ents)\n",
    "    doc.ents = final_ents\n",
    "    doc_bin.add(doc)\n",
    "    \n",
    "doc_bin.to_disk('custom_ner.spacy')"
   ]
  },
  {
   "cell_type": "code",
   "execution_count": 21,
   "id": "ba1fcb93",
   "metadata": {},
   "outputs": [
    {
     "name": "stdout",
     "output_type": "stream",
     "text": [
      "[+] Auto-filled config with all values\n",
      "[+] Saved config\n",
      "config.cfg\n",
      "You can now add your data and train your pipeline:\n",
      "python -m spacy train config.cfg --paths.train ./train.spacy --paths.dev ./dev.spacy\n"
     ]
    }
   ],
   "source": [
    "!python -m spacy init fill-config base_config.cfg config.cfg"
   ]
  },
  {
   "cell_type": "code",
   "execution_count": null,
   "id": "129db922",
   "metadata": {},
   "outputs": [],
   "source": [
    "# !python -m spacy train config.cfg --output ./output --paths.train ./train.spacy --paths.dev ./train.spacy"
   ]
  },
  {
   "cell_type": "code",
   "execution_count": null,
   "id": "01376b67",
   "metadata": {},
   "outputs": [],
   "source": [
    "# print(doc.ents)"
   ]
  },
  {
   "cell_type": "code",
   "execution_count": null,
   "id": "f445c499",
   "metadata": {},
   "outputs": [],
   "source": [
    "# custom_med_NER = spacy.load('output/model-best')"
   ]
  },
  {
   "cell_type": "code",
   "execution_count": null,
   "id": "9719c8dd",
   "metadata": {},
   "outputs": [],
   "source": [
    "\n",
    "# docx = custom_med_NER('Diarrhea, also spelled diarrhoea, is the condition of having at least three loose, liquid, or watery bowel movements each day.[2] It often lasts for a few days and can result in dehydration due to fluid loss.[2] Signs of dehydration often begin with loss of the normal stretchiness of the skin and irritable behaviour.[2] This can progress to decreased urination, loss of skin color, a fast heart rate, and a decrease in responsiveness as it becomes more severe.[2] Loose but non-watery stools in babies who are exclusively breastfed, however, are normal')\n",
    "\n",
    "# colors= {'PATHOGEN': '#D49137', 'MEDICINE': '#BE398D', 'MEDICALCONDITION': '#F07857'}\n",
    "# options = {'colors': colors}\n",
    "\n",
    "# spacy.displacy.render(docx, style='ent', options=options, jupyter=True)"
   ]
  },
  {
   "cell_type": "code",
   "execution_count": null,
   "id": "5b883fe0",
   "metadata": {},
   "outputs": [],
   "source": [
    "# print(doc.ents.label_, doc.ents.text)"
   ]
  },
  {
   "cell_type": "code",
   "execution_count": null,
   "id": "cb811d01",
   "metadata": {},
   "outputs": [],
   "source": []
  },
  {
   "cell_type": "code",
   "execution_count": null,
   "id": "59223101",
   "metadata": {},
   "outputs": [],
   "source": []
  },
  {
   "cell_type": "code",
   "execution_count": null,
   "id": "b3f7c020",
   "metadata": {},
   "outputs": [],
   "source": []
  },
  {
   "cell_type": "code",
   "execution_count": null,
   "id": "58466ae1",
   "metadata": {},
   "outputs": [],
   "source": []
  }
 ],
 "metadata": {
  "kernelspec": {
   "display_name": "Python 3",
   "language": "python",
   "name": "python3"
  },
  "language_info": {
   "codemirror_mode": {
    "name": "ipython",
    "version": 3
   },
   "file_extension": ".py",
   "mimetype": "text/x-python",
   "name": "python",
   "nbconvert_exporter": "python",
   "pygments_lexer": "ipython3",
   "version": "3.8.8"
  },
  "vscode": {
   "interpreter": {
    "hash": "3a8ddf0b9b53c1487d93b65b4d93f3cf451d0fdf101c93b7245185d66f951682"
   }
  }
 },
 "nbformat": 4,
 "nbformat_minor": 5
}
